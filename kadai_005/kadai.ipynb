{
  "nbformat": 4,
  "nbformat_minor": 0,
  "metadata": {
    "colab": {
      "provenance": []
    },
    "kernelspec": {
      "name": "python3",
      "display_name": "Python 3"
    },
    "language_info": {
      "name": "python"
    }
  },
  "cells": [
    {
      "cell_type": "code",
      "execution_count": 4,
      "metadata": {
        "colab": {
          "base_uri": "https://localhost:8080/"
        },
        "id": "kOd94Kine5fH",
        "outputId": "e9d02a63-a771-4378-b89e-fbbcf373b382"
      },
      "outputs": [
        {
          "output_type": "stream",
          "name": "stdout",
          "text": [
            "75.0cm²\n"
          ]
        }
      ],
      "source": [
        "top_side=10 #上辺\n",
        "bottom_side=20 #下辺\n",
        "height=5 #高さ\n",
        "\n",
        "area=(top_side+bottom_side)*height/2\n",
        "\n",
        "print(f\"{area}cm²\")"
      ]
    }
  ]
}