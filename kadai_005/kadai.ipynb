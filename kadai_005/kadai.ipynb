{
  "nbformat": 4,
  "nbformat_minor": 0,
  "metadata": {
    "colab": {
      "provenance": []
    },
    "kernelspec": {
      "name": "python3",
      "display_name": "Python 3"
    },
    "language_info": {
      "name": "python"
    }
  },
  "cells": [
    {
      "cell_type": "code",
      "execution_count": 3,
      "metadata": {
        "colab": {
          "base_uri": "https://localhost:8080/"
        },
        "id": "kOd94Kine5fH",
        "outputId": "6f96b108-1b76-40ef-e751-292a4d54bd82"
      },
      "outputs": [
        {
          "output_type": "stream",
          "name": "stdout",
          "text": [
            "75.0\n"
          ]
        }
      ],
      "source": [
        "top_side=10 #上辺\n",
        "bottom_side=20 #下辺\n",
        "height=5 #高さ\n",
        "\n",
        "print((top_side+bottom_side)*height/2)"
      ]
    }
  ]
}