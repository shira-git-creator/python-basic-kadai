{
  "nbformat": 4,
  "nbformat_minor": 0,
  "metadata": {
    "colab": {
      "provenance": []
    },
    "kernelspec": {
      "name": "python3",
      "display_name": "Python 3"
    },
    "language_info": {
      "name": "python"
    }
  },
  "cells": [
    {
      "cell_type": "code",
      "execution_count": null,
      "metadata": {
        "id": "CX26fq_KdP37"
      },
      "outputs": [],
      "source": [
        "array[0]=[\"月曜日は晴れです\"]\n",
        "array[1]=[\"火曜日は雨です\"]\n",
        "array[2]=[\"水曜日は晴れです\"]\n",
        "array[3]=[\"木曜日は晴れです\"]\n",
        "array[4]=[\"金曜日は曇りです\"]\n",
        "array[5]=[\"土曜日は曇りのち雨です\"]\n",
        "array[6]=[\"日曜日は雷雨です\"]\n",
        "\n",
        "dictionary={\"mon\":\"晴れ\",\"tue\":\"雨\",\"wed\":\"晴れ\",\"thu\":\"晴れ\",\"fri\":\"曇り\",\"sat\":\"曇りのち雨\",\"sun\":\"雷雨\"}"
      ]
    }
  ]
}