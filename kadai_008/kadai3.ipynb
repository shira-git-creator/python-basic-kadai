{
  "nbformat": 4,
  "nbformat_minor": 0,
  "metadata": {
    "colab": {
      "provenance": []
    },
    "kernelspec": {
      "name": "python3",
      "display_name": "Python 3"
    },
    "language_info": {
      "name": "python"
    }
  },
  "cells": [
    {
      "cell_type": "code",
      "execution_count": 35,
      "metadata": {
        "colab": {
          "base_uri": "https://localhost:8080/"
        },
        "id": "cEsApGFboupY",
        "outputId": "5cb29ced-69e7-44b9-ed5b-09a7d96a62fc"
      },
      "outputs": [
        {
          "output_type": "stream",
          "name": "stdout",
          "text": [
            "Fizz\n"
          ]
        }
      ],
      "source": [
        "var = 3 #正の整数\n",
        "\n",
        "if var%15 == 0:\n",
        "  print(\"FizzBuzz\")\n",
        "elif var%3 == 0:\n",
        "  print(\"Fizz\")\n",
        "elif var%5 == 0:\n",
        "  print(\"Buzz\")\n",
        "else:\n",
        "  print(var)\n",
        "\n"
      ]
    },
    {
      "cell_type": "code",
      "source": [
        "var = 5 #正の整数\n",
        "\n",
        "if var%15 == 0:\n",
        "  print(\"FizzBuzz\")\n",
        "elif var%3 == 0:\n",
        "  print(\"Fizz\")\n",
        "elif var%5 == 0:\n",
        "  print(\"Buzz\")\n",
        "else:\n",
        "  print(var)"
      ],
      "metadata": {
        "colab": {
          "base_uri": "https://localhost:8080/"
        },
        "id": "Tirk_N36R2T1",
        "outputId": "bfcfc940-c053-4104-8534-e53d3f915cd0"
      },
      "execution_count": 36,
      "outputs": [
        {
          "output_type": "stream",
          "name": "stdout",
          "text": [
            "Buzz\n"
          ]
        }
      ]
    },
    {
      "cell_type": "code",
      "source": [
        "var = 15 #正の整数\n",
        "\n",
        "if var%15 == 0:\n",
        "  print(\"FizzBuzz\")\n",
        "elif var%3 == 0:\n",
        "  print(\"Fizz\")\n",
        "elif var%5 == 0:\n",
        "  print(\"Buzz\")\n",
        "else:\n",
        "  print(var)"
      ],
      "metadata": {
        "colab": {
          "base_uri": "https://localhost:8080/"
        },
        "id": "8wcKJkVMR9OE",
        "outputId": "ad21b6f6-116a-41c4-82a6-5dd324bc5eaa"
      },
      "execution_count": 37,
      "outputs": [
        {
          "output_type": "stream",
          "name": "stdout",
          "text": [
            "FizzBuzz\n"
          ]
        }
      ]
    },
    {
      "cell_type": "code",
      "source": [
        "var = 8 #正の整数\n",
        "\n",
        "if var%15 == 0:\n",
        "  print(\"FizzBuzz\")\n",
        "elif var%3 == 0:\n",
        "  print(\"Fizz\")\n",
        "elif var%5 == 0:\n",
        "  print(\"Buzz\")\n",
        "else:\n",
        "  print(var)"
      ],
      "metadata": {
        "colab": {
          "base_uri": "https://localhost:8080/"
        },
        "id": "Qorm8vcISRVr",
        "outputId": "a0381a50-4762-4829-ace3-c1aad28489ae"
      },
      "execution_count": 38,
      "outputs": [
        {
          "output_type": "stream",
          "name": "stdout",
          "text": [
            "8\n"
          ]
        }
      ]
    }
  ]
}