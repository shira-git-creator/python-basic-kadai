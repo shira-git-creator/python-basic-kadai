{
  "nbformat": 4,
  "nbformat_minor": 0,
  "metadata": {
    "colab": {
      "provenance": []
    },
    "kernelspec": {
      "name": "python3",
      "display_name": "Python 3"
    },
    "language_info": {
      "name": "python"
    }
  },
  "cells": [
    {
      "cell_type": "code",
      "execution_count": 3,
      "metadata": {
        "colab": {
          "base_uri": "https://localhost:8080/"
        },
        "id": "atSSqkUfVnx6",
        "outputId": "c9d6ab51-6e29-444d-cfc7-bbb8a0ba728d"
      },
      "outputs": [
        {
          "output_type": "execute_result",
          "data": {
            "text/plain": [
              "121.0"
            ]
          },
          "metadata": {},
          "execution_count": 3
        }
      ],
      "source": [
        "def calc_tax(price,tax):\n",
        "  tax = price*0.1\n",
        "  total = price + tax\n",
        "  return total\n",
        "\n",
        "calc_tax(110,10)\n",
        "\n"
      ]
    }
  ]
}