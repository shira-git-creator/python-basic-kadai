{
  "nbformat": 4,
  "nbformat_minor": 0,
  "metadata": {
    "colab": {
      "provenance": []
    },
    "kernelspec": {
      "name": "python3",
      "display_name": "Python 3"
    },
    "language_info": {
      "name": "python"
    }
  },
  "cells": [
    {
      "cell_type": "code",
      "execution_count": 1,
      "metadata": {
        "colab": {
          "base_uri": "https://localhost:8080/"
        },
        "id": "atSSqkUfVnx6",
        "outputId": "b31fb332-c8cc-459b-9a5f-7520ab7db394"
      },
      "outputs": [
        {
          "output_type": "execute_result",
          "data": {
            "text/plain": [
              "121.0"
            ]
          },
          "metadata": {},
          "execution_count": 1
        }
      ],
      "source": [
        "def calc_tax(price,tax):\n",
        "  tax = price*0.1\n",
        "  total = price + tax\n",
        "  return total\n",
        "\n",
        "calc_tax(110,11)\n",
        "\n"
      ]
    }
  ]
}