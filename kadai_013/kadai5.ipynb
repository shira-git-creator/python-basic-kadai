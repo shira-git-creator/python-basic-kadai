{
  "nbformat": 4,
  "nbformat_minor": 0,
  "metadata": {
    "colab": {
      "provenance": []
    },
    "kernelspec": {
      "name": "python3",
      "display_name": "Python 3"
    },
    "language_info": {
      "name": "python"
    }
  },
  "cells": [
    {
      "cell_type": "code",
      "execution_count": 7,
      "metadata": {
        "colab": {
          "base_uri": "https://localhost:8080/"
        },
        "id": "atSSqkUfVnx6",
        "outputId": "26e5d82e-487c-458e-a3d8-978780a87ca9"
      },
      "outputs": [
        {
          "output_type": "execute_result",
          "data": {
            "text/plain": [
              "121.0"
            ]
          },
          "metadata": {},
          "execution_count": 7
        }
      ],
      "source": [
        "def calc_tax(price,tax):\n",
        "  consume_tax = tax/100\n",
        "  price_tax = price*consume_tax\n",
        "  total = price + price_tax\n",
        "  return total\n",
        "\n",
        "calc_tax(110,10)\n",
        "\n"
      ]
    }
  ]
}