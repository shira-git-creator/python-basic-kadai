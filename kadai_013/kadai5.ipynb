{
  "nbformat": 4,
  "nbformat_minor": 0,
  "metadata": {
    "colab": {
      "provenance": []
    },
    "kernelspec": {
      "name": "python3",
      "display_name": "Python 3"
    },
    "language_info": {
      "name": "python"
    }
  },
  "cells": [
    {
      "cell_type": "code",
      "execution_count": 2,
      "metadata": {
        "colab": {
          "base_uri": "https://localhost:8080/"
        },
        "id": "atSSqkUfVnx6",
        "outputId": "ea6109c6-b039-46cc-9915-4d2b50510216"
      },
      "outputs": [
        {
          "output_type": "execute_result",
          "data": {
            "text/plain": [
              "120"
            ]
          },
          "metadata": {},
          "execution_count": 2
        }
      ],
      "source": [
        "def calc_tax(price,tax):\n",
        "  total = price + tax\n",
        "  return total\n",
        "\n",
        "calc_tax(110,10)\n",
        "\n"
      ]
    }
  ]
}