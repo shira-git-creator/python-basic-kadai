{
  "nbformat": 4,
  "nbformat_minor": 0,
  "metadata": {
    "colab": {
      "provenance": []
    },
    "kernelspec": {
      "name": "python3",
      "display_name": "Python 3"
    },
    "language_info": {
      "name": "python"
    }
  },
  "cells": [
    {
      "cell_type": "code",
      "execution_count": 11,
      "metadata": {
        "colab": {
          "base_uri": "https://localhost:8080/"
        },
        "id": "ZLBLrN_ESAFL",
        "outputId": "e0a60f6a-3e7a-4a1e-fb00-8b34176772b8"
      },
      "outputs": [
        {
          "output_type": "stream",
          "name": "stdout",
          "text": [
            "330.0\n"
          ]
        }
      ],
      "source": [
        "#ローカルスコープ変数で定義\n",
        "def total():\n",
        "    price1 = 100\n",
        "    price2 = 200\n",
        "    tax = 1.1\n",
        "    price = price1 + price2\n",
        "    price_tax = price*tax\n",
        "    print(price_tax)\n",
        "\n",
        "total()"
      ]
    },
    {
      "cell_type": "code",
      "source": [
        "#グローバルスコープ変数で定義\n",
        "price1 = 100\n",
        "price2 = 200\n",
        "tax = 1.1\n",
        "price = price1 + price2\n",
        "price_tax = price*tax\n",
        "\n",
        "def total():\n",
        "    print(price_tax)\n",
        "\n",
        "total()\n"
      ],
      "metadata": {
        "colab": {
          "base_uri": "https://localhost:8080/"
        },
        "id": "KMsP1hgjVxKT",
        "outputId": "1cab02e0-cec4-4372-ab9a-4f39f83bfe35"
      },
      "execution_count": 17,
      "outputs": [
        {
          "output_type": "stream",
          "name": "stdout",
          "text": [
            "330.0\n"
          ]
        }
      ]
    }
  ]
}