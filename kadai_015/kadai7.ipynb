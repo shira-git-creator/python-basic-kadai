{
  "nbformat": 4,
  "nbformat_minor": 0,
  "metadata": {
    "colab": {
      "provenance": []
    },
    "kernelspec": {
      "name": "python3",
      "display_name": "Python 3"
    },
    "language_info": {
      "name": "python"
    }
  },
  "cells": [
    {
      "cell_type": "code",
      "execution_count": 11,
      "metadata": {
        "colab": {
          "base_uri": "https://localhost:8080/"
        },
        "id": "w-mO0xS5rrnv",
        "outputId": "9e162cea-d9a6-4eb2-9b8f-962f565eb119"
      },
      "outputs": [
        {
          "output_type": "stream",
          "name": "stdout",
          "text": [
            "Tom\n",
            "25\n"
          ]
        }
      ],
      "source": [
        "class Human:\n",
        "\n",
        "  def __init__(self,name,age):\n",
        "        self.name = name\n",
        "        self.age = age\n",
        "\n",
        "    # メソッドを定義する\n",
        "  def printinfo(self, name,age):\n",
        "        print(self.name)\n",
        "        print(self.age)\n",
        "\n",
        "user = Human(\"Tom\",25)\n",
        "\n",
        "# メソッドにアクセスして実行する\n",
        "user.printinfo(\"Tom\",25)\n"
      ]
    }
  ]
}