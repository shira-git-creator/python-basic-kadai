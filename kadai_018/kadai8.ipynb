{
  "nbformat": 4,
  "nbformat_minor": 0,
  "metadata": {
    "colab": {
      "provenance": []
    },
    "kernelspec": {
      "name": "python3",
      "display_name": "Python 3"
    },
    "language_info": {
      "name": "python"
    }
  },
  "cells": [
    {
      "cell_type": "code",
      "execution_count": 26,
      "metadata": {
        "colab": {
          "base_uri": "https://localhost:8080/"
        },
        "id": "cDPWmY69JWBn",
        "outputId": "2198b1df-5374-4aa0-e504-54e4e461517d"
      },
      "outputs": [
        {
          "output_type": "stream",
          "name": "stdout",
          "text": [
            "バウアーは成人です。\n",
            "トーマスは成人ではありません。\n",
            "ジョンソンは成人です。\n"
          ]
        }
      ],
      "source": [
        "class Human:\n",
        "  def __init__(self,name,age):\n",
        "    self.name=name\n",
        "    self.age=age\n",
        "  def check_adult(self):\n",
        "    if self.age > 20:\n",
        "      print(self.name+\"は成人です。\")\n",
        "    else:\n",
        "      print(self.name+\"は成人ではありません。\")\n",
        "\n",
        "human1 = Human(\"バウアー\",34)\n",
        "human2 = Human(\"トーマス\",18)\n",
        "human3 = Human(\"ジョンソン\",52)\n",
        "\n",
        "human_list = [human1,human2,human3]\n",
        "\n",
        "for human in human_list:\n",
        "  human.check_adult()\n",
        "\n"
      ]
    }
  ]
}