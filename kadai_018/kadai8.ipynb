{
  "nbformat": 4,
  "nbformat_minor": 0,
  "metadata": {
    "colab": {
      "provenance": []
    },
    "kernelspec": {
      "name": "python3",
      "display_name": "Python 3"
    },
    "language_info": {
      "name": "python"
    }
  },
  "cells": [
    {
      "cell_type": "code",
      "execution_count": 18,
      "metadata": {
        "colab": {
          "base_uri": "https://localhost:8080/"
        },
        "id": "cDPWmY69JWBn",
        "outputId": "92e9c50d-f0be-4627-879b-9073a269b4a1"
      },
      "outputs": [
        {
          "output_type": "stream",
          "name": "stdout",
          "text": [
            "バウアーは成人です。\n"
          ]
        }
      ],
      "source": [
        "class Human:\n",
        "  def _init_(self,name,age):\n",
        "    self.name=name\n",
        "    self.age=age\n",
        "  def check_adult(self):\n",
        "    name = \"バウアー\"\n",
        "    age = 34\n",
        "    user_names={\"バウアー\":34,\"ゆたぼん\":14,\"ヒカキン\":35}\n",
        "    if age > 20:\n",
        "      print(name+\"は成人です。\")\n",
        "    else:\n",
        "      print(\"成人ではありません。\")\n",
        "\n",
        "human = Human()\n",
        "\n",
        "human.check_adult()\n"
      ]
    }
  ]
}